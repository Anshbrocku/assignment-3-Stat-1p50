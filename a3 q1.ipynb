{
 "cells": [
  {
   "cell_type": "code",
   "execution_count": 32,
   "id": "e0e39493",
   "metadata": {},
   "outputs": [
    {
     "name": "stdout",
     "output_type": "stream",
     "text": [
      "[[0.79416959]]\n",
      "[0.08767373]\n",
      "[[-0.4617803]]\n",
      "[0.60665044]\n"
     ]
    }
   ],
   "source": [
    "import pandas as pd\n",
    "from sklearn.linear_model import LinearRegression\n",
    "import numpy as np\n",
    "reg=LinearRegression()\n",
    "reg2=LinearRegression()\n",
    "data= pd.read_csv('crime.csv')\n",
    "x=np.array(data['PctUnemployed']).reshape(-1,1)\n",
    "\n",
    "y=np.array(data['ViolentCrimesPerPop']).reshape(-1,1)\n",
    "trained_model=reg.fit(x,y)\n",
    "\n",
    "print(reg.coef_)\n",
    "print(reg.intercept_)\n",
    "x1=np.array(data['PctBSorMore']).reshape(-1,1)\n",
    "\n",
    "y=np.array(data['ViolentCrimesPerPop']).reshape(-1,1)\n",
    "trained_model=reg2.fit(x1,y)\n",
    "\n",
    "print(reg2.coef_)\n",
    "print(reg2.intercept_)\n",
    "\n"
   ]
  },
  {
   "cell_type": "code",
   "execution_count": 5,
   "id": "d5308f3f",
   "metadata": {},
   "outputs": [
    {
     "name": "stdout",
     "output_type": "stream",
     "text": [
      "Requirement already satisfied: numpy in c:\\users\\ansh2\\anaconda3\\lib\\site-packages (1.26.1)\n"
     ]
    }
   ],
   "source": [
    "!pip install numpy"
   ]
  }
 ],
 "metadata": {
  "kernelspec": {
   "display_name": "Python 3 (ipykernel)",
   "language": "python",
   "name": "python3"
  },
  "language_info": {
   "codemirror_mode": {
    "name": "ipython",
    "version": 3
   },
   "file_extension": ".py",
   "mimetype": "text/x-python",
   "name": "python",
   "nbconvert_exporter": "python",
   "pygments_lexer": "ipython3",
   "version": "3.9.7"
  }
 },
 "nbformat": 4,
 "nbformat_minor": 5
}
