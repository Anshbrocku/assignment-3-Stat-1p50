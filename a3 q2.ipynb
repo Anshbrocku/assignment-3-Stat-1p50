{
 "cells": [
  {
   "cell_type": "code",
   "execution_count": 3,
   "id": "c3809b33",
   "metadata": {},
   "outputs": [
    {
     "name": "stdout",
     "output_type": "stream",
     "text": [
      "[[ 0.21041265 -0.06307632  0.56906083  0.19527306  0.21295658]]\n",
      "[0.05026065]\n"
     ]
    }
   ],
   "source": [
    "import pandas as pd\n",
    "from sklearn.linear_model import LinearRegression\n",
    "import numpy as np\n",
    "reg=LinearRegression()\n",
    "\n",
    "data= pd.read_csv('crime.csv')\n",
    "x=(data.loc[:,['PctUnemployed','PctBSorMore','PctPopUnderPov','PolicPerPop','Pcthomeless']])\n",
    "\n",
    "y=np.array(data['ViolentCrimesPerPop']).reshape(-1,1)\n",
    "trained_model=reg.fit(x,y)\n",
    "\n",
    "print(reg.coef_)\n",
    "print(reg.intercept_)\n",
    "# As per the abpve calculation the most influential factor is pctpopunderpov"
   ]
  }
 ],
 "metadata": {
  "kernelspec": {
   "display_name": "Python 3 (ipykernel)",
   "language": "python",
   "name": "python3"
  },
  "language_info": {
   "codemirror_mode": {
    "name": "ipython",
    "version": 3
   },
   "file_extension": ".py",
   "mimetype": "text/x-python",
   "name": "python",
   "nbconvert_exporter": "python",
   "pygments_lexer": "ipython3",
   "version": "3.9.7"
  }
 },
 "nbformat": 4,
 "nbformat_minor": 5
}
