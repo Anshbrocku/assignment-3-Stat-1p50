{
 "cells": [
  {
   "cell_type": "code",
   "execution_count": 18,
   "id": "e4ac7f53",
   "metadata": {},
   "outputs": [
    {
     "data": {
      "text/plain": [
       "0.23076923076923078"
      ]
     },
     "execution_count": 18,
     "metadata": {},
     "output_type": "execute_result"
    }
   ],
   "source": [
    "def get_frequency(input_string):\n",
    "\n",
    " list_of_words = input_string.split(' ')\n",
    " dict_of_frequencies = {}\n",
    "\n",
    " for word in list_of_words:\n",
    "\n",
    "  if word in dict_of_frequencies.keys():\n",
    "   dict_of_frequencies[word] = dict_of_frequencies[word] + 1\n",
    "  else:\n",
    "   dict_of_frequencies[word] = 1\n",
    " flagvariable=0\n",
    " \n",
    " for word in list_of_words:\n",
    "\n",
    "  if dict_of_frequencies[word]>flagvariable:\n",
    "    flagvariable=dict_of_frequencies[word]\n",
    "\n",
    " return(flagvariable/len(list_of_words))\n",
    "\n",
    "get_frequency('hi my name is ansh and my friend name is akshat ehh name')\n",
    "\n",
    "\n"
   ]
  }
 ],
 "metadata": {
  "kernelspec": {
   "display_name": "Python 3 (ipykernel)",
   "language": "python",
   "name": "python3"
  },
  "language_info": {
   "codemirror_mode": {
    "name": "ipython",
    "version": 3
   },
   "file_extension": ".py",
   "mimetype": "text/x-python",
   "name": "python",
   "nbconvert_exporter": "python",
   "pygments_lexer": "ipython3",
   "version": "3.9.7"
  }
 },
 "nbformat": 4,
 "nbformat_minor": 5
}
